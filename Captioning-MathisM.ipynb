{
 "cells": [
  {
   "cell_type": "markdown",
   "id": "0b18a387-b9ca-47c9-9a6e-8136535be82a",
   "metadata": {},
   "source": [
    "# 0. Imports"
   ]
  },
  {
   "cell_type": "code",
   "execution_count": 1,
   "id": "9b748df0-000f-485c-b901-1c7c15c2ac58",
   "metadata": {},
   "outputs": [],
   "source": [
    "import os\n",
    "import json\n",
    "import collections\n",
    "import numpy as np\n",
    "import pickle\n",
    "import datetime\n",
    "\n",
    "from tqdm.notebook import tqdm\n",
    "\n",
    "import tensorflow as tf\n",
    "from tensorflow import keras\n",
    "from tensorflow.keras.applications import InceptionV3\n",
    "from tensorflow.keras.callbacks import TensorBoard\n",
    "from tensorflow.keras.models import Model\n",
    "from tensorflow.keras.preprocessing.sequence import pad_sequences\n",
    "from tensorflow.keras.preprocessing.text import Tokenizer\n",
    "from tensorflow.keras.utils import to_categorical, plot_model\n",
    "from tensorflow.keras.layers import Input , Dense , LSTM , Embedding , Dropout , add"
   ]
  },
  {
   "cell_type": "code",
   "execution_count": 2,
   "id": "648bb217-89ef-44fd-b09a-6c969c714322",
   "metadata": {},
   "outputs": [],
   "source": [
    "# Chemin du fichier d'annotations\n",
    "annotation_folder = \"/captionning_data/annotations/\"\n",
    "annotation_file = os.path.abspath('.') + annotation_folder + \"captions_train2014.json\"\n",
    "\n",
    "# Chemin du dossier contenant les images à annoter\n",
    "image_folder = '/captionning_data/train2014/'\n",
    "PATH = os.path.abspath('.') + image_folder\n",
    "\n",
    "temp_folder = os.path.join(os.path.abspath('.'), \"Tests\")"
   ]
  },
  {
   "cell_type": "markdown",
   "id": "e862c2bf-bb5f-453e-922b-a1d03070d670",
   "metadata": {},
   "source": [
    "# 1. Chargement des données"
   ]
  },
  {
   "cell_type": "code",
   "execution_count": 3,
   "id": "87f9510d-2e44-40af-a942-d9d536fdb142",
   "metadata": {},
   "outputs": [],
   "source": [
    "def load_annotations():\n",
    "    # Lecture du fichier d'annotation\n",
    "    with open(annotation_file, 'r') as f:\n",
    "        annotations = json.load(f)\n",
    "        \n",
    "    # Grouper toutes les annotations ayant le meme identifiant.\n",
    "    image_path_annotation = collections.defaultdict(list)\n",
    "    for val in annotations['annotations']:\n",
    "        # marquer le debut et la fin de chaque annotation\n",
    "        caption = val['caption']\n",
    "\n",
    "        # L'identifiant d'une image fait partie de son chemin d'accès\n",
    "        image_path = PATH + 'COCO_train2014_' + '%012d.jpg' % (val['image_id'])\n",
    "\n",
    "        # Rajout du caption associé à image_path\n",
    "        image_path_annotation[image_path].append(caption)\n",
    "        \n",
    "    return image_path_annotation"
   ]
  },
  {
   "cell_type": "code",
   "execution_count": 4,
   "id": "ea8adb4b-be72-4c53-928e-3d9641e20fed",
   "metadata": {},
   "outputs": [
    {
     "name": "stdout",
     "output_type": "stream",
     "text": [
      "Nb annotations : 82783\n"
     ]
    }
   ],
   "source": [
    "data_annotations = load_annotations()\n",
    "print(\"Nb annotations :\", len(data_annotations))"
   ]
  },
  {
   "cell_type": "markdown",
   "id": "37ad7836-150e-4b3e-ad28-a8294f1dc9bc",
   "metadata": {},
   "source": [
    "data_annotations = dict(list(data_annotations.items())[:10000])\n",
    "print(\"Nb annotations :\", len(data_annotations))"
   ]
  },
  {
   "cell_type": "code",
   "execution_count": 6,
   "id": "33a3ae79-2263-463d-aff2-7c3e3a8c37ef",
   "metadata": {},
   "outputs": [],
   "source": [
    "def load_dataset_from_annotations(data_annotations):\n",
    "    # Liste de toutes les annotations\n",
    "    train_captions = []\n",
    "    # Liste de tous les noms de fichiers des images dupliquées (en nombre d'annotations par image)\n",
    "    img_name_vector = []\n",
    "\n",
    "    for image_path in data_annotations:\n",
    "        caption_list = data_annotations[image_path]\n",
    "\n",
    "        # Rajout de caption_list dans train_captions\n",
    "        train_captions.extend(caption_list)\n",
    "\n",
    "        # Rajout de image_path dupliquée len(caption_list) fois\n",
    "        img_name_vector.extend([image_path] * len(caption_list))\n",
    "        \n",
    "    return np.column_stack((img_name_vector, train_captions))"
   ]
  },
  {
   "cell_type": "code",
   "execution_count": 7,
   "id": "44bc4dab-df4c-4cd9-8ac4-806295c5c23f",
   "metadata": {},
   "outputs": [
    {
     "name": "stdout",
     "output_type": "stream",
     "text": [
      "Taille du dataset : (50020, 2)\n",
      "[['C:\\\\Users\\\\2113264\\\\Documents\\\\Projet/captionning_data/train2014/COCO_train2014_000000318556.jpg'\n",
      "  'A very clean and well decorated empty bathroom']\n",
      " ['C:\\\\Users\\\\2113264\\\\Documents\\\\Projet/captionning_data/train2014/COCO_train2014_000000318556.jpg'\n",
      "  'A blue and white bathroom with butterfly themed wall tiles.']\n",
      " ['C:\\\\Users\\\\2113264\\\\Documents\\\\Projet/captionning_data/train2014/COCO_train2014_000000318556.jpg'\n",
      "  'A bathroom with a border of butterflies and blue paint on the walls above it.']\n",
      " ...\n",
      " ['C:\\\\Users\\\\2113264\\\\Documents\\\\Projet/captionning_data/train2014/COCO_train2014_000000570295.jpg'\n",
      "  'The bathroom has a white tub and toilet.']\n",
      " ['C:\\\\Users\\\\2113264\\\\Documents\\\\Projet/captionning_data/train2014/COCO_train2014_000000570295.jpg'\n",
      "  'An all white bathroom is shown wish a large tub.']\n",
      " ['C:\\\\Users\\\\2113264\\\\Documents\\\\Projet/captionning_data/train2014/COCO_train2014_000000570295.jpg'\n",
      "  'A white toilet and a bath in a room.']]\n"
     ]
    }
   ],
   "source": [
    "dataset = load_dataset_from_annotations(data_annotations)\n",
    "print(\"Taille du dataset :\", dataset.shape)\n",
    "print(dataset)"
   ]
  },
  {
   "cell_type": "markdown",
   "id": "9ffcd50b-2cdb-4625-964a-faff0eb359a4",
   "metadata": {},
   "source": [
    "## 2. Preprocessing "
   ]
  },
  {
   "cell_type": "code",
   "execution_count": 8,
   "id": "d89aa97a-ef39-4f32-9a75-d6d298f5e0ad",
   "metadata": {},
   "outputs": [],
   "source": [
    "def feature_preprocessing(dataset):\n",
    "    # Load the inception v3 model\n",
    "    input1 = InceptionV3(weights='imagenet')\n",
    "\n",
    "    # Create a new model, by removing the last layer (output layer) from the inception v3\n",
    "    model = Model(input1.input, input1.layers[-2].output)\n",
    "\n",
    "    model.summary()\n",
    "    \n",
    "    features = {}\n",
    "    \n",
    "    for img_path in tqdm(np.unique(dataset[:,0])):\n",
    "        # Convert all the images to size 299x299 as expected by the inception v3 model\n",
    "        image = keras.preprocessing.image.load_img(img_path, target_size=(299, 299))\n",
    "        # Convert PIL image to numpy array of 3-dimensions\n",
    "        image = keras.preprocessing.image.img_to_array(image)\n",
    "        # Add one more dimension\n",
    "        image = np.expand_dims(image, axis=0)\n",
    "        # pre-process the images using preprocess_input() from inception module\n",
    "        image = keras.applications.inception_v3.preprocess_input(image)\n",
    "        \n",
    "        fea_vec = model.predict(image, verbose=False) # Get the encoding vector for the image\n",
    "        fea_vec = np.reshape(fea_vec, fea_vec.shape[1]) # reshape from (1, 2048) to (2048, )\n",
    "        \n",
    "        features[img_path] = fea_vec\n",
    "        \n",
    "    return features"
   ]
  },
  {
   "cell_type": "code",
   "execution_count": null,
   "id": "c0992cc2-bf02-4d4f-91e1-527b2b5ff76b",
   "metadata": {},
   "outputs": [],
   "source": [
    "# store features in pickle\n",
    "os.makedirs(temp_folder, exist_ok=True)\n",
    "with open(os.path.join(temp_folder, \"features.pkl\"), \"wb\") as encoded_pickle:\n",
    "    pickle.dump(feature_preprocessing(dataset), encoded_pickle)"
   ]
  },
  {
   "cell_type": "code",
   "execution_count": 9,
   "id": "066f2a79-7efc-4000-b2c6-ad663195b88c",
   "metadata": {},
   "outputs": [],
   "source": [
    "# load features from pickle\n",
    "with open(os.path.join(temp_folder, \"features.pkl\"), 'rb') as f:\n",
    "    features = pickle.load(f)"
   ]
  },
  {
   "cell_type": "code",
   "execution_count": 10,
   "id": "46ffcf4d-5a39-468a-9f59-b9551b41f015",
   "metadata": {},
   "outputs": [],
   "source": [
    "def clean(dataset):\n",
    "    cleaned = []\n",
    "    \n",
    "    for key_input, caption_input in dataset:\n",
    "        # preprocessing steps\n",
    "        # convert to lowercase\n",
    "        caption = caption_input.lower()\n",
    "        caption = caption.replace('.', '')\n",
    "        # delete digits, special chars, etc., \n",
    "        caption = caption.replace('[^A-Za-z]', '')\n",
    "        # delete additional spaces\n",
    "        caption = caption.replace('\\s+', ' ')\n",
    "        # add start and end tags to the caption\n",
    "        caption = 'startseq ' + \" \".join([word for word in caption.split() if len(word)>1]) + ' endseq'\n",
    "        \n",
    "        cleaned.append((key_input, caption))\n",
    "        \n",
    "    return np.array(cleaned)"
   ]
  },
  {
   "cell_type": "code",
   "execution_count": 11,
   "id": "089a1a1c-0eee-4ff2-8817-6dfe60c232d7",
   "metadata": {},
   "outputs": [],
   "source": [
    "cleaned_dataset = clean(dataset)"
   ]
  },
  {
   "cell_type": "code",
   "execution_count": 12,
   "id": "afab99b3-202c-4485-8153-aaa39a7c94e7",
   "metadata": {},
   "outputs": [
    {
     "name": "stdout",
     "output_type": "stream",
     "text": [
      "Dataset valeur 1 : A very clean and well decorated empty bathroom\n",
      "Cleaned valeur 1 : startseq very clean and well decorated empty bathroom endseq\n",
      "Dataset valeur 2 : A blue and white bathroom with butterfly themed wall tiles.\n",
      "Cleaned valeur 2 : startseq blue and white bathroom with butterfly themed wall tiles endseq\n"
     ]
    }
   ],
   "source": [
    "print(\"Dataset valeur 1 :\", dataset[0][1])\n",
    "print(\"Cleaned valeur 1 :\", cleaned_dataset[0][1])\n",
    "print(\"Dataset valeur 2 :\", dataset[1][1])\n",
    "print(\"Cleaned valeur 2 :\", cleaned_dataset[1][1])"
   ]
  },
  {
   "cell_type": "markdown",
   "id": "ab2793a0-849c-4165-bfaa-c881dd184ba2",
   "metadata": {},
   "source": [
    "## 3. Processing des Textes"
   ]
  },
  {
   "cell_type": "code",
   "execution_count": 13,
   "id": "7ae0d5d0-15c7-4f7b-94a6-b4438c2effb8",
   "metadata": {},
   "outputs": [
    {
     "name": "stdout",
     "output_type": "stream",
     "text": [
      "Nombre de mot unique : 9017\n"
     ]
    }
   ],
   "source": [
    "# tokenize the text\n",
    "tokenizer = Tokenizer()\n",
    "tokenizer.fit_on_texts(cleaned_dataset[:,1])\n",
    "vocab_size = len(tokenizer.word_index) + 1\n",
    "print(\"Nombre de mot unique :\", vocab_size)"
   ]
  },
  {
   "cell_type": "code",
   "execution_count": 14,
   "id": "c7285d24-c343-41df-8f43-93edf11fc5e1",
   "metadata": {},
   "outputs": [
    {
     "name": "stdout",
     "output_type": "stream",
     "text": [
      "Taille maximum des descriptions : 45\n"
     ]
    }
   ],
   "source": [
    "# get maximum length of the caption available\n",
    "max_length = max(len(caption.split()) for caption in cleaned_dataset[:,1])\n",
    "print(\"Taille maximum des descriptions :\", max_length)"
   ]
  },
  {
   "cell_type": "markdown",
   "id": "63a42de5-6297-4562-9a5b-88b3c532cf0b",
   "metadata": {},
   "source": [
    "## 4. Train Test Split"
   ]
  },
  {
   "cell_type": "code",
   "execution_count": 15,
   "id": "076866fb-b596-4cf5-a83f-8c56a50d8af6",
   "metadata": {},
   "outputs": [],
   "source": [
    "split = int(len(cleaned_dataset) * 0.90)\n",
    "split_train = int(split * 0.80)\n",
    "train = cleaned_dataset[:split_train]\n",
    "val = cleaned_dataset[split_train:split]\n",
    "test = cleaned_dataset[split:]"
   ]
  },
  {
   "cell_type": "code",
   "execution_count": 16,
   "id": "6526f544-867f-4256-a9ef-2556233f6384",
   "metadata": {},
   "outputs": [],
   "source": [
    "# create data generator to get data in batch (avoids session crash)\n",
    "def data_generator(data, features, tokenizer, max_length, vocab_size, batch_size):\n",
    "    # loop over images\n",
    "    X1, X2, y = list(), list(), list()\n",
    "    n = 0\n",
    "    while True:\n",
    "        for key, caption in data:\n",
    "            n += 1\n",
    "            # encode the sequence\n",
    "            seq = tokenizer.texts_to_sequences([caption])[0]\n",
    "            # split the sequence into X, y pairs\n",
    "            for i in range(1, len(seq)):\n",
    "                # split into input and output pairs\n",
    "                in_seq, out_seq = seq[:i], seq[i]\n",
    "                # pad input sequence\n",
    "                in_seq = pad_sequences([in_seq], maxlen=max_length)[0]\n",
    "                # encode output sequence\n",
    "                out_seq = to_categorical([out_seq],num_classes=vocab_size)[0]\n",
    "                # store the sequences\n",
    "                X1.append(features[key])\n",
    "                X2.append(in_seq)\n",
    "                y.append(out_seq)\n",
    "\n",
    "            if n == batch_size:\n",
    "                yield ((tf.convert_to_tensor(np.array(X1)), tf.convert_to_tensor(np.array(X2))), tf.convert_to_tensor(np.array(y)))\n",
    "                X1, X2, y = list(), list(), list()\n",
    "                n = 0\n",
    "        # handle the last batch which might be smaller than batch_size\n",
    "        if 0 < n < batch_size:\n",
    "            yield ((tf.convert_to_tensor(np.array(X1)), tf.convert_to_tensor(np.array(X2))), tf.convert_to_tensor(np.array(y)))\n",
    "            X1, X2, y = list(), list(), list()\n",
    "            n = 0"
   ]
  },
  {
   "cell_type": "markdown",
   "id": "6ac13125-cc07-4f73-9b20-37908365e619",
   "metadata": {},
   "source": [
    "## 5. Model"
   ]
  },
  {
   "cell_type": "code",
   "execution_count": 17,
   "id": "1b344857-f57e-4b89-9f51-89ca90d01f4d",
   "metadata": {},
   "outputs": [
    {
     "name": "stdout",
     "output_type": "stream",
     "text": [
      "Model: \"model\"\n",
      "__________________________________________________________________________________________________\n",
      " Layer (type)                   Output Shape         Param #     Connected to                     \n",
      "==================================================================================================\n",
      " input_2 (InputLayer)           [(None, 45)]         0           []                               \n",
      "                                                                                                  \n",
      " input_1 (InputLayer)           [(None, 2048)]       0           []                               \n",
      "                                                                                                  \n",
      " embedding (Embedding)          (None, 45, 256)      2308352     ['input_2[0][0]']                \n",
      "                                                                                                  \n",
      " dropout (Dropout)              (None, 2048)         0           ['input_1[0][0]']                \n",
      "                                                                                                  \n",
      " dropout_1 (Dropout)            (None, 45, 256)      0           ['embedding[0][0]']              \n",
      "                                                                                                  \n",
      " dense (Dense)                  (None, 256)          524544      ['dropout[0][0]']                \n",
      "                                                                                                  \n",
      " lstm (LSTM)                    (None, 256)          525312      ['dropout_1[0][0]']              \n",
      "                                                                                                  \n",
      " add (Add)                      (None, 256)          0           ['dense[0][0]',                  \n",
      "                                                                  'lstm[0][0]']                   \n",
      "                                                                                                  \n",
      " dense_1 (Dense)                (None, 256)          65792       ['add[0][0]']                    \n",
      "                                                                                                  \n",
      " dense_2 (Dense)                (None, 9017)         2317369     ['dense_1[0][0]']                \n",
      "                                                                                                  \n",
      "==================================================================================================\n",
      "Total params: 5,741,369\n",
      "Trainable params: 3,433,017\n",
      "Non-trainable params: 2,308,352\n",
      "__________________________________________________________________________________________________\n"
     ]
    }
   ],
   "source": [
    "model = None\n",
    "with tf.device('/GPU:0'):\n",
    "    inputs1 = Input(shape=(2048,))\n",
    "    fe1 = Dropout(0.5)(inputs1)\n",
    "    fe2 = Dense(256, activation='relu')(fe1)\n",
    "\n",
    "    inputs2 = Input(shape=(max_length,))\n",
    "    se1 = Embedding(vocab_size, 256, mask_zero=True)(inputs2)\n",
    "    se2 = Dropout(0.5)(se1)\n",
    "    se3 = LSTM(256)(se2)\n",
    "\n",
    "    decoder1 = add([fe2, se3])\n",
    "    decoder2 = Dense(256, activation='relu')(decoder1)\n",
    "    outputs = Dense(vocab_size, activation='softmax')(decoder2)\n",
    "\n",
    "    model = Model(inputs=[inputs1, inputs2], outputs=outputs)\n",
    "    \n",
    "    model.layers[2].set_weights([np.zeros((vocab_size, 256))])\n",
    "    model.layers[2].trainable = False\n",
    "\n",
    "    model.compile(loss='categorical_crossentropy', optimizer='adam')\n",
    "    model.summary()"
   ]
  },
  {
   "cell_type": "code",
   "execution_count": 18,
   "id": "c4dbd431-27ae-4c38-a395-3325cc65ce32",
   "metadata": {},
   "outputs": [
    {
     "data": {
      "image/png": "[encoded data removed]",
      "text/plain": [
       "<IPython.core.display.Image object>"
      ]
     },
     "execution_count": 18,
     "metadata": {},
     "output_type": "execute_result"
    }
   ],
   "source": [
    "# plot the model\n",
    "plot_model(model, show_shapes=True)"
   ]
  },
  {
   "cell_type": "markdown",
   "id": "ad044b8c-4088-45a5-8289-f21c3be98bdf",
   "metadata": {},
   "source": [
    "## 6. Train Model"
   ]
  },
  {
   "cell_type": "code",
   "execution_count": 19,
   "id": "dfeaafcf-7753-4791-91a5-195dbd259249",
   "metadata": {},
   "outputs": [],
   "source": [
    "# train the model\n",
    "epochs = 20\n",
    "batch_size = 32\n",
    "\n",
    "train_steps = len(train) // batch_size\n",
    "train_dataset = tf.data.Dataset.from_generator(\n",
    "    lambda: data_generator(train, features, tokenizer, max_length, vocab_size, batch_size),\n",
    "    output_signature=(\n",
    "        (tf.TensorSpec(shape=(None, 2048), dtype=tf.float32),  # X1 shape\n",
    "         tf.TensorSpec(shape=(None, max_length), dtype=tf.int32)),  # X2 shape\n",
    "        tf.TensorSpec(shape=(None, vocab_size), dtype=tf.float32)  # y shape\n",
    "    )\n",
    ")\n",
    "\n",
    "val_steps = len(val) // batch_size\n",
    "val_dataset = tf.data.Dataset.from_generator(\n",
    "    lambda: data_generator(val, features, tokenizer, max_length, vocab_size, batch_size),\n",
    "    output_signature=(\n",
    "        (tf.TensorSpec(shape=(None, 2048), dtype=tf.float32),  # X1 shape\n",
    "         tf.TensorSpec(shape=(None, max_length), dtype=tf.int32)),  # X2 shape\n",
    "        tf.TensorSpec(shape=(None, vocab_size), dtype=tf.float32)  # y shape\n",
    "    )\n",
    ")"
   ]
  },
  {
   "cell_type": "code",
   "execution_count": null,
   "id": "eb563660-58e8-4ba7-acd1-bf2aa6771403",
   "metadata": {},
   "outputs": [
    {
     "name": "stdout",
     "output_type": "stream",
     "text": [
      "Epoch 1/20\n",
      "1125/1125 [==============================] - 231s 203ms/step - loss: 5.0872 - val_loss: 5.1243\n",
      "Epoch 2/20\n",
      "1125/1125 [==============================] - 233s 207ms/step - loss: 4.6792 - val_loss: 5.0516\n",
      "Epoch 3/20\n",
      "1125/1125 [==============================] - 227s 202ms/step - loss: 4.5368 - val_loss: 5.0732\n",
      "Epoch 4/20\n",
      "1125/1125 [==============================] - 228s 202ms/step - loss: 4.4371 - val_loss: 5.1382\n",
      "Epoch 5/20\n",
      " 437/1125 [==========>...................] - ETA: 2:08 - loss: 4.3837"
     ]
    }
   ],
   "source": [
    "date = datetime.datetime.now().strftime(\"%Y%m%d-%H%M%S\")\n",
    "log_dir = os.path.join(temp_folder, \"logs/fit/captioning/\" + date)\n",
    "os.makedirs(log_dir, exist_ok=True)\n",
    "tensorboard_callback = TensorBoard(log_dir=log_dir, histogram_freq=1)\n",
    "\n",
    "model_checkpoint_directory = os.path.join(temp_folder, f\"weights/captioning/{date}/\")\n",
    "os.makedirs(model_checkpoint_directory, exist_ok=True)\n",
    "model_checkpoint_callback = tf.keras.callbacks.ModelCheckpoint(\n",
    "    filepath=f\"{model_checkpoint_directory}{{epoch:02d}}-{{val_loss:.4f}}.h5\",\n",
    "    save_weights_only=True,\n",
    "    monitor='val_loss',\n",
    "    save_freq='epoch',\n",
    "    save_best_only=False)\n",
    "\n",
    "with tf.device('/GPU:0'):\n",
    "    model.fit(train_dataset, validation_data=val_dataset, epochs=epochs, steps_per_epoch=train_steps, validation_steps=val_steps, callbacks=[tensorboard_callback, model_checkpoint_callback])"
   ]
  },
  {
   "cell_type": "code",
   "execution_count": null,
   "id": "c3365066-5c62-45ee-8a00-99c7c9560b06",
   "metadata": {},
   "outputs": [],
   "source": []
  }
 ],
 "metadata": {
  "kernelspec": {
   "display_name": "Python [conda env:projet] *",
   "language": "python",
   "name": "conda-env-projet-py"
  },
  "language_info": {
   "codemirror_mode": {
    "name": "ipython",
    "version": 3
   },
   "file_extension": ".py",
   "mimetype": "text/x-python",
   "name": "python",
   "nbconvert_exporter": "python",
   "pygments_lexer": "ipython3",
   "version": "3.9.18"
  }
 },
 "nbformat": 4,
 "nbformat_minor": 5
}

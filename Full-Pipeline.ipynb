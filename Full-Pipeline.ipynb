{
 "cells": [
  {
   "cell_type": "code",
   "execution_count": null,
   "id": "4f0daeb0-546b-43c8-919c-541c6eb48aca",
   "metadata": {},
   "outputs": [],
   "source": []
  },
  {
   "cell_type": "code",
   "execution_count": 1,
   "id": "7260952d-ed0e-417f-856e-ef1c4ecdeb96",
   "metadata": {},
   "outputs": [],
   "source": [
    "import pandas as pd\n",
    "import os\n",
    "import matplotlib.pyplot as plt\n",
    "import matplotlib.image as mpimg\n",
    "import numpy as np\n",
    "import tensorflow as tf\n",
    "import requests\n",
    "import zipfile\n",
    "from PIL import Image\n",
    "from tqdm.notebook import tqdm\n",
    "import shutil\n",
    "from pathlib import Path\n",
    "from tensorflow.keras.preprocessing.image import ImageDataGenerator, load_img, img_to_array\n",
    "import random\n",
    "import math\n",
    "import tensorflow as tf\n",
    "from tensorflow.keras.models import Sequential, load_model\n",
    "from tensorflow.keras.layers import Conv2D, MaxPooling2D, Flatten, Dense, Dropout\n",
    "from tensorflow.keras.callbacks import TensorBoard\n",
    "import datetime\n",
    "from sklearn.metrics import confusion_matrix\n",
    "import numpy as np\n",
    "import matplotlib.pyplot as plt\n",
    "import seaborn as sns\n",
    "import pydot\n",
    "import graphviz\n",
    "import os\n",
    "from tqdm.notebook import tqdm\n",
    "\n",
    "row_data = \"./test_data/row_data/\"\n",
    "processed_data = \"./test_data/processed_data/\"\n",
    "denoised_data = \"./test_data/processed_data/\"\n",
    "classified_data = \"./test_data/classified_data/\"\n",
    "\n",
    "image_valid_extensions = [\".png\", \".jpg\", \".jpeg\"]\n",
    "image_target_size = (300, 300)"
   ]
  },
  {
   "cell_type": "code",
   "execution_count": 5,
   "id": "1415d6ab-e1e0-4ab5-88df-a877eb2e4f99",
   "metadata": {},
   "outputs": [
    {
     "data": {
      "application/vnd.jupyter.widget-view+json": {
       "model_id": "",
       "version_major": 2,
       "version_minor": 0
      },
      "text/plain": [
       "File:   0%|          | 0/60 [00:00<?, ?it/s]"
      ]
     },
     "metadata": {},
     "output_type": "display_data"
    },
    {
     "name": "stdout",
     "output_type": "stream",
     "text": [
      "Traitement terminé!\n"
     ]
    }
   ],
   "source": [
    "def process_images(source_directory, destination_directory, target_size, valid_extensions):\n",
    "    if os.path.exists(destination_directory):\n",
    "        shutil.rmtree(destination_directory)\n",
    "    \n",
    "    # Créer le dossier de destination s'il n'existe pas\n",
    "    if not os.path.exists(destination_directory):\n",
    "        os.makedirs(destination_directory)\n",
    "\n",
    "    for file_name in tqdm(os.listdir(source_directory), desc=\"File\", position=1, leave=False):\n",
    "        if any(file_name.endswith(extension) for extension in valid_extensions):\n",
    "            source_file_path = os.path.join(source_directory, file_name)\n",
    "            transient_file_path = os.path.join(destination_directory, \"transient_\" + file_name)\n",
    "            destination_file_path = os.path.join(destination_directory, file_name)\n",
    "            try:\n",
    "                # Convertir l'image en RGB et redimensionner avec PIL\n",
    "                with Image.open(source_file_path) as img:\n",
    "                    img_rgb = img.convert('RGB')\n",
    "                    img_resized = img_rgb.resize(target_size)\n",
    "                    img_resized.save(transient_file_path, \"JPEG\")\n",
    "\n",
    "                # Lire et vérifier l'image avec TensorFlow\n",
    "                image = tf.io.read_file(transient_file_path)\n",
    "                image = tf.image.decode_image(image)\n",
    "\n",
    "                # Normaliser l'image\n",
    "                #image = tf.image.convert_image_dtype(image, tf.float32, saturate=True)\n",
    "\n",
    "                # Enregistrer l'image traitée\n",
    "                encoded_image = tf.image.encode_jpeg(tf.image.convert_image_dtype(image, dtype=tf.uint8, saturate=True))\n",
    "                tf.io.write_file(destination_file_path, encoded_image)\n",
    "\n",
    "            except Exception as e:\n",
    "                print(f\"Erreur lors du traitement de l'image {source_file_path}: {e}\")\n",
    "\n",
    "            if os.path.exists(transient_file_path):\n",
    "                os.remove(transient_file_path)\n",
    "\n",
    "    print(\"Traitement terminé!\")\n",
    "    \n",
    "process_images(row_data, processed_data, image_target_size, image_valid_extensions)"
   ]
  }
 ],
 "metadata": {
  "kernelspec": {
   "display_name": "Python [conda env:projet] *",
   "language": "python",
   "name": "conda-env-projet-py"
  },
  "language_info": {
   "codemirror_mode": {
    "name": "ipython",
    "version": 3
   },
   "file_extension": ".py",
   "mimetype": "text/x-python",
   "name": "python",
   "nbconvert_exporter": "python",
   "pygments_lexer": "ipython3",
   "version": "3.9.18"
  }
 },
 "nbformat": 4,
 "nbformat_minor": 5
}
